{
 "cells": [
  {
   "cell_type": "code",
   "execution_count": 14,
   "metadata": {},
   "outputs": [],
   "source": [
    "import torch\n",
    "from torch import nn\n",
    "from torch.utils.data.dataloader import DataLoader\n",
    "from torchvision import datasets\n",
    "from torchvision.transforms import ToTensor\n",
    "\n",
    "# Download training data from open datasets\n",
    "training_data = datasets.FashionMNIST(root='data', train=True, download=True, transform=ToTensor())\n",
    "\n",
    "# Download test data from open datasets\n",
    "test_data = datasets.FashionMNIST(root='data', train=False, download=True, transform=ToTensor())\n"
   ]
  },
  {
   "cell_type": "code",
   "execution_count": 15,
   "metadata": {},
   "outputs": [
    {
     "name": "stdout",
     "output_type": "stream",
     "text": [
      "Shape of X [N, C, H, W]: torch.Size([64, 1, 28, 28])\n",
      "Shape of y : torch.Size([64]), torch.int64\n"
     ]
    }
   ],
   "source": [
    "batch_size = 64\n",
    "\n",
    "# Create data loaders\n",
    "train_dataloader = DataLoader(training_data, batch_size=batch_size)\n",
    "test_dataloader = DataLoader(test_data, batch_size=batch_size)\n",
    "\n",
    "for X, y in test_dataloader:\n",
    "    print(f'Shape of X [N, C, H, W]: {X.shape}')\n",
    "    print(f'Shape of y : {y.shape}, {y.dtype}')\n",
    "    break\n"
   ]
  },
  {
   "cell_type": "code",
   "execution_count": 16,
   "metadata": {},
   "outputs": [
    {
     "name": "stdout",
     "output_type": "stream",
     "text": [
      "Using cpu device\n"
     ]
    }
   ],
   "source": [
    "device = (\n",
    "    'cuda'\n",
    "    if torch.cuda.is_available()\n",
    "    else 'mps'\n",
    "    if torch.backends.mps.is_available()\n",
    "    else 'cpu'\n",
    ")\n",
    "print(f'Using {device} device')\n"
   ]
  },
  {
   "cell_type": "code",
   "execution_count": 17,
   "metadata": {},
   "outputs": [
    {
     "name": "stdout",
     "output_type": "stream",
     "text": [
      "NeuralNetwork(\n",
      "  (flatten): Flatten(start_dim=1, end_dim=-1)\n",
      "  (linear_relu_stack): Sequential(\n",
      "    (0): Linear(in_features=784, out_features=512, bias=True)\n",
      "    (1): ReLU()\n",
      "    (2): Linear(in_features=512, out_features=512, bias=True)\n",
      "    (3): ReLU()\n",
      "    (4): Linear(in_features=512, out_features=10, bias=True)\n",
      "  )\n",
      ")\n"
     ]
    }
   ],
   "source": [
    "# Define model\n",
    "class NeuralNetwork(nn.Module):\n",
    "    def __init__(self) -> None:\n",
    "        super().__init__()\n",
    "        self.flatten = nn.Flatten()\n",
    "        self.linear_relu_stack = nn.Sequential(\n",
    "            nn.Linear(28 * 28, 512),\n",
    "            nn.ReLU(),\n",
    "            nn.Linear(512, 512),\n",
    "            nn.ReLU(),\n",
    "            nn.Linear(512, 10)\n",
    "        )\n",
    "\n",
    "    def forward(self, x):\n",
    "        x = self.flatten(x)\n",
    "        logits = self.linear_relu_stack(x)\n",
    "        return logits\n",
    "model = NeuralNetwork().to(device)\n",
    "print(model)"
   ]
  },
  {
   "cell_type": "code",
   "execution_count": 18,
   "metadata": {},
   "outputs": [],
   "source": [
    "loss_fn = nn.CrossEntropyLoss()\n",
    "optimizer = torch.optim.SGD(model.parameters(), lr=0.001)"
   ]
  },
  {
   "cell_type": "code",
   "execution_count": 19,
   "metadata": {},
   "outputs": [],
   "source": [
    "def train(dataloader, model, loss_fn, optimizer):\n",
    "    size = len(dataloader.dataset)\n",
    "    model.train()\n",
    "    for batch, (X, y) in enumerate(dataloader):\n",
    "        X, y = X.to(device), y.to(device)\n",
    "\n",
    "        # Compute prediction error\n",
    "        pred = model(X)\n",
    "        loss = loss_fn(pred, y)\n",
    "\n",
    "        # Backpropagation\n",
    "        loss.backward()\n",
    "        optimizer.step()\n",
    "        optimizer.zero_grad()\n",
    "\n",
    "        if batch % 100 == 0:\n",
    "            loss, current = loss.item(), (batch + 1) * len(X)\n",
    "            print(f'loss :  {loss:>7f} [{current:>5d} / {size:>5d}]')"
   ]
  },
  {
   "cell_type": "code",
   "execution_count": 20,
   "metadata": {},
   "outputs": [],
   "source": [
    "def test(dataloader, model, loss_fn):\n",
    "    size = len(dataloader.dataset)\n",
    "    num_batches = len(dataloader)\n",
    "    model.eval()\n",
    "    test_loss, correct = 0, 0\n",
    "    with torch.no_grad():\n",
    "        for X, y in dataloader:\n",
    "            X, y = X.to(device), y.to(device)\n",
    "            pred = model(X)\n",
    "            test_loss += loss_fn(pred, y).item()\n",
    "            correct += (pred.argmax(1) == y).type(torch.float).sum().item()\n",
    "    test_loss /= num_batches\n",
    "    correct /= size\n",
    "    print(f'Test error: \\n Accuracy: {(100 * correct):>0.1f}%, Avg loss: {test_loss:>8f} \\n')"
   ]
  },
  {
   "cell_type": "code",
   "execution_count": 21,
   "metadata": {},
   "outputs": [
    {
     "name": "stdout",
     "output_type": "stream",
     "text": [
      "Epoch 1 \n",
      " ---------------------------------\n",
      "loss :  2.311991 [   64 / 60000]\n",
      "loss :  2.293175 [ 6464 / 60000]\n",
      "loss :  2.270723 [12864 / 60000]\n",
      "loss :  2.257314 [19264 / 60000]\n",
      "loss :  2.253881 [25664 / 60000]\n",
      "loss :  2.211052 [32064 / 60000]\n",
      "loss :  2.228619 [38464 / 60000]\n",
      "loss :  2.192634 [44864 / 60000]\n",
      "loss :  2.187249 [51264 / 60000]\n",
      "loss :  2.152629 [57664 / 60000]\n",
      "Test error: \n",
      " Accuracy: 41.8%, Avg loss: 2.146511 \n",
      "\n",
      "Epoch 2 \n",
      " ---------------------------------\n",
      "loss :  2.157106 [   64 / 60000]\n",
      "loss :  2.147255 [ 6464 / 60000]\n",
      "loss :  2.086171 [12864 / 60000]\n",
      "loss :  2.102957 [19264 / 60000]\n",
      "loss :  2.063813 [25664 / 60000]\n",
      "loss :  1.984619 [32064 / 60000]\n",
      "loss :  2.029902 [38464 / 60000]\n",
      "loss :  1.946095 [44864 / 60000]\n",
      "loss :  1.954410 [51264 / 60000]\n",
      "loss :  1.877684 [57664 / 60000]\n",
      "Test error: \n",
      " Accuracy: 59.4%, Avg loss: 1.875569 \n",
      "\n",
      "Epoch 3 \n",
      " ---------------------------------\n",
      "loss :  1.904025 [   64 / 60000]\n",
      "loss :  1.877713 [ 6464 / 60000]\n",
      "loss :  1.757646 [12864 / 60000]\n",
      "loss :  1.801319 [19264 / 60000]\n",
      "loss :  1.699631 [25664 / 60000]\n",
      "loss :  1.635756 [32064 / 60000]\n",
      "loss :  1.672306 [38464 / 60000]\n",
      "loss :  1.573160 [44864 / 60000]\n",
      "loss :  1.600891 [51264 / 60000]\n",
      "loss :  1.486893 [57664 / 60000]\n",
      "Test error: \n",
      " Accuracy: 62.2%, Avg loss: 1.506803 \n",
      "\n",
      "Epoch 4 \n",
      " ---------------------------------\n",
      "loss :  1.570897 [   64 / 60000]\n",
      "loss :  1.541841 [ 6464 / 60000]\n",
      "loss :  1.389980 [12864 / 60000]\n",
      "loss :  1.456835 [19264 / 60000]\n",
      "loss :  1.345113 [25664 / 60000]\n",
      "loss :  1.333846 [32064 / 60000]\n",
      "loss :  1.356543 [38464 / 60000]\n",
      "loss :  1.286123 [44864 / 60000]\n",
      "loss :  1.317901 [51264 / 60000]\n",
      "loss :  1.210666 [57664 / 60000]\n",
      "Test error: \n",
      " Accuracy: 63.6%, Avg loss: 1.239078 \n",
      "\n",
      "Epoch 5 \n",
      " ---------------------------------\n",
      "loss :  1.312404 [   64 / 60000]\n",
      "loss :  1.304627 [ 6464 / 60000]\n",
      "loss :  1.135140 [12864 / 60000]\n",
      "loss :  1.233505 [19264 / 60000]\n",
      "loss :  1.115425 [25664 / 60000]\n",
      "loss :  1.135250 [32064 / 60000]\n",
      "loss :  1.166054 [38464 / 60000]\n",
      "loss :  1.107472 [44864 / 60000]\n",
      "loss :  1.142411 [51264 / 60000]\n",
      "loss :  1.052313 [57664 / 60000]\n",
      "Test error: \n",
      " Accuracy: 64.9%, Avg loss: 1.074563 \n",
      "\n",
      "Done!\n"
     ]
    }
   ],
   "source": [
    "epochs = 5\n",
    "for t in range(epochs):\n",
    "    print(f'Epoch { t + 1 } \\n ---------------------------------')\n",
    "    train(train_dataloader, model, loss_fn, optimizer)\n",
    "    test(test_dataloader, model, loss_fn)\n",
    "print('Done!')"
   ]
  },
  {
   "cell_type": "code",
   "execution_count": 22,
   "metadata": {},
   "outputs": [
    {
     "name": "stdout",
     "output_type": "stream",
     "text": [
      "Saved PyTorch model state to 01.model.pth\n"
     ]
    }
   ],
   "source": [
    "torch.save(model.state_dict(), '01.model.pth')\n",
    "print('Saved PyTorch model state to 01.model.pth')"
   ]
  },
  {
   "cell_type": "code",
   "execution_count": 23,
   "metadata": {},
   "outputs": [
    {
     "data": {
      "text/plain": [
       "<All keys matched successfully>"
      ]
     },
     "execution_count": 23,
     "metadata": {},
     "output_type": "execute_result"
    }
   ],
   "source": [
    "model = NeuralNetwork().to(device)\n",
    "model.load_state_dict(torch.load('01.model.pth'))"
   ]
  },
  {
   "cell_type": "code",
   "execution_count": 24,
   "metadata": {},
   "outputs": [
    {
     "name": "stdout",
     "output_type": "stream",
     "text": [
      "Predicted: \"Ankle boot\", Actual: \"Ankle boot\"\n"
     ]
    }
   ],
   "source": [
    "classes = [\n",
    "    'T-shirt/top',\n",
    "    'Trouser',\n",
    "    'Pullover',\n",
    "    'Dress',\n",
    "    'Coat',\n",
    "    'Sandal',\n",
    "    'Shirt',\n",
    "    'Sneaker',\n",
    "    'Bag',\n",
    "    'Ankle boot'\n",
    "]\n",
    "\n",
    "model.eval()\n",
    "x, y = test_data[0][0], test_data[0][1]\n",
    "with torch.no_grad():\n",
    "    x = x.to(device)\n",
    "    pred = model(x)\n",
    "    predicted, actual = classes[pred[0].argmax(0)], classes[y]\n",
    "    print(f'Predicted: \"{predicted}\", Actual: \"{actual}\"')"
   ]
  }
 ],
 "metadata": {
  "kernelspec": {
   "display_name": "base",
   "language": "python",
   "name": "python3"
  },
  "language_info": {
   "codemirror_mode": {
    "name": "ipython",
    "version": 3
   },
   "file_extension": ".py",
   "mimetype": "text/x-python",
   "name": "python",
   "nbconvert_exporter": "python",
   "pygments_lexer": "ipython3",
   "version": "3.10.9"
  },
  "orig_nbformat": 4
 },
 "nbformat": 4,
 "nbformat_minor": 2
}
